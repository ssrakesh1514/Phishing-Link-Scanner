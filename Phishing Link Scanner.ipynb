{
 "cells": [
  {
   "cell_type": "code",
   "execution_count": 1,
   "id": "7bba1c93",
   "metadata": {},
   "outputs": [
    {
     "name": "stdout",
     "output_type": "stream",
     "text": [
      "Requirement already satisfied: tldextract in d:\\anaconda\\lib\\site-packages (3.2.0)\n",
      "Requirement already satisfied: idna in d:\\anaconda\\lib\\site-packages (from tldextract) (3.4)\n",
      "Requirement already satisfied: requests>=2.1.0 in d:\\anaconda\\lib\\site-packages (from tldextract) (2.31.0)\n",
      "Requirement already satisfied: requests-file>=1.4 in d:\\anaconda\\lib\\site-packages (from tldextract) (1.5.1)\n",
      "Requirement already satisfied: filelock>=3.0.8 in d:\\anaconda\\lib\\site-packages (from tldextract) (3.9.0)\n",
      "Requirement already satisfied: charset-normalizer<4,>=2 in d:\\anaconda\\lib\\site-packages (from requests>=2.1.0->tldextract) (2.0.4)\n",
      "Requirement already satisfied: urllib3<3,>=1.21.1 in d:\\anaconda\\lib\\site-packages (from requests>=2.1.0->tldextract) (1.26.16)\n",
      "Requirement already satisfied: certifi>=2017.4.17 in d:\\anaconda\\lib\\site-packages (from requests>=2.1.0->tldextract) (2024.2.2)\n",
      "Requirement already satisfied: six in d:\\anaconda\\lib\\site-packages (from requests-file>=1.4->tldextract) (1.16.0)\n"
     ]
    }
   ],
   "source": [
    "!pip install tldextract\n"
   ]
  },
  {
   "cell_type": "code",
   "execution_count": 2,
   "id": "08827fb1",
   "metadata": {},
   "outputs": [
    {
     "name": "stdout",
     "output_type": "stream",
     "text": [
      "Collecting python-Levenshtein\n",
      "  Obtaining dependency information for python-Levenshtein from https://files.pythonhosted.org/packages/72/8e/559c539e76bc0b1defec3da39a047fe151258efc9b215bf41db41e2c7922/python_Levenshtein-0.25.1-py3-none-any.whl.metadata\n",
      "  Downloading python_Levenshtein-0.25.1-py3-none-any.whl.metadata (3.7 kB)\n",
      "Collecting Levenshtein==0.25.1 (from python-Levenshtein)\n",
      "  Obtaining dependency information for Levenshtein==0.25.1 from https://files.pythonhosted.org/packages/47/19/4528246e25bb79fa8d4adae6640251c613f05eb310d79307d1ac53c7bf28/Levenshtein-0.25.1-cp311-cp311-win_amd64.whl.metadata\n",
      "  Downloading Levenshtein-0.25.1-cp311-cp311-win_amd64.whl.metadata (3.4 kB)\n",
      "Collecting rapidfuzz<4.0.0,>=3.8.0 (from Levenshtein==0.25.1->python-Levenshtein)\n",
      "  Obtaining dependency information for rapidfuzz<4.0.0,>=3.8.0 from https://files.pythonhosted.org/packages/01/55/9aad2563ba629cc03228b97c0abe286a61fbfeb8c8e80202313914d722d1/rapidfuzz-3.9.0-cp311-cp311-win_amd64.whl.metadata\n",
      "  Downloading rapidfuzz-3.9.0-cp311-cp311-win_amd64.whl.metadata (11 kB)\n",
      "Downloading python_Levenshtein-0.25.1-py3-none-any.whl (9.4 kB)\n",
      "Downloading Levenshtein-0.25.1-cp311-cp311-win_amd64.whl (98 kB)\n",
      "   ---------------------------------------- 0.0/98.4 kB ? eta -:--:--\n",
      "   -------- ------------------------------- 20.5/98.4 kB 682.7 kB/s eta 0:00:01\n",
      "   ---------------------------------------- 98.4/98.4 kB 1.4 MB/s eta 0:00:00\n",
      "Downloading rapidfuzz-3.9.0-cp311-cp311-win_amd64.whl (1.7 MB)\n",
      "   ---------------------------------------- 0.0/1.7 MB ? eta -:--:--\n",
      "   ---------------- ----------------------- 0.7/1.7 MB 21.1 MB/s eta 0:00:01\n",
      "   --------------------------- ------------ 1.1/1.7 MB 14.1 MB/s eta 0:00:01\n",
      "   ------------------------------------- -- 1.6/1.7 MB 12.5 MB/s eta 0:00:01\n",
      "   ---------------------------------------  1.6/1.7 MB 11.6 MB/s eta 0:00:01\n",
      "   ---------------------------------------- 1.7/1.7 MB 7.5 MB/s eta 0:00:00\n",
      "Installing collected packages: rapidfuzz, Levenshtein, python-Levenshtein\n",
      "Successfully installed Levenshtein-0.25.1 python-Levenshtein-0.25.1 rapidfuzz-3.9.0\n"
     ]
    }
   ],
   "source": [
    "!pip install python-Levenshtein\n",
    "\n"
   ]
  },
  {
   "cell_type": "code",
   "execution_count": 4,
   "id": "06ead327",
   "metadata": {},
   "outputs": [
    {
     "name": "stdout",
     "output_type": "stream",
     "text": [
      "Potential phising detected:  http://example.co\n",
      "Potential phising detected:  http://www.google.security-update.comhttp://facebook.com/loginhttp://google.com\n"
     ]
    }
   ],
   "source": [
    "import tldextract\n",
    "import Levenshtein as lv\n",
    "legitimate_domains=['example.com','google.com','facebook.com']\n",
    "test_urls=[\n",
    "    \"http://example.co\",\n",
    "    \"http://example.com\",\n",
    "    \"http://www.google.security-update.com\"\n",
    "    \"http://facebook.com/login\"\n",
    "    \"http://google.com\"\n",
    "]\n",
    "def extract_domain_parts(urls):\n",
    "    extracted= tldextract.extract(url)\n",
    "    return extracted.subdomain, extracted.domain, extracted.suffix\n",
    "def is_misspelled_domain(domain,legitimate_domains,threshold=0.9):\n",
    "    for legit_domain in legitimate_domains:\n",
    "        similarity=lv.ratio(domain,legit_domain)\n",
    "        if similarity>=threshold:\n",
    "            return False\n",
    "    return True\n",
    "def is_phishing_url(url,legitimate_domains):\n",
    "    subdomain,domain,suffix=extract_domain_parts(url)\n",
    "    if f\"{domain}.{suffix}\" in legitimate_domains:\n",
    "        return False\n",
    "    if is_misspelled_domain(domain, legitimate_domains):\n",
    "        print(f\"Potential phising detected:  {url}\")\n",
    "        return True\n",
    "    return False\n",
    "if __name__ == '__main__':\n",
    "    for url in test_urls:\n",
    "        is_phishing_url(url, legitimate_domains)"
   ]
  },
  {
   "cell_type": "code",
   "execution_count": null,
   "id": "8e463ff4",
   "metadata": {},
   "outputs": [],
   "source": []
  }
 ],
 "metadata": {
  "kernelspec": {
   "display_name": "Python 3 (ipykernel)",
   "language": "python",
   "name": "python3"
  },
  "language_info": {
   "codemirror_mode": {
    "name": "ipython",
    "version": 3
   },
   "file_extension": ".py",
   "mimetype": "text/x-python",
   "name": "python",
   "nbconvert_exporter": "python",
   "pygments_lexer": "ipython3",
   "version": "3.11.5"
  }
 },
 "nbformat": 4,
 "nbformat_minor": 5
}
